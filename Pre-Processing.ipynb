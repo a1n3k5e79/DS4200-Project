{
 "cells": [
  {
   "cell_type": "markdown",
   "id": "44bfa114-fcb3-4e03-a535-bbd95f0bc840",
   "metadata": {},
   "source": [
    "## Data Pre-Processing"
   ]
  },
  {
   "cell_type": "code",
   "execution_count": 2,
   "id": "9a5f66b2-192a-4a1f-a57b-8cd2c8e51377",
   "metadata": {},
   "outputs": [],
   "source": [
    "import pandas as pd"
   ]
  },
  {
   "cell_type": "markdown",
   "id": "7fd1f91c-827a-4065-b5b7-96f6fd91c9e1",
   "metadata": {},
   "source": [
    "### Checking and Handling Missing Values"
   ]
  },
  {
   "cell_type": "code",
   "execution_count": 4,
   "id": "09bdc64f-909a-4a1d-932e-af6e8aa03305",
   "metadata": {},
   "outputs": [
    {
     "name": "stdout",
     "output_type": "stream",
     "text": [
      "missing values before handling:\n",
      "\n",
      "Savanna fires                        31\n",
      "Forest fires                         93\n",
      "Crop Residues                      1389\n",
      "Forestland                          493\n",
      "Net Forest conversion               493\n",
      "Food Household Consumption          473\n",
      "IPPU                                743\n",
      "Manure applied to Soils             928\n",
      "Manure Management                   928\n",
      "Fires in humid tropical forests     155\n",
      "On-farm energy use                  956\n",
      "dtype: int64\n"
     ]
    }
   ],
   "source": [
    "# loads the dataset\n",
    "df = pd.read_csv(\"Agrofood_co2_emission.csv\")\n",
    "\n",
    "# identifies all columns with missing values\n",
    "columns_to_fill = df.columns[df.isnull().any()].tolist()\n",
    "\n",
    "# prints missing value counts before filling\n",
    "print(\"missing values before handling:\\n\")\n",
    "print(df[columns_to_fill].isnull().sum())"
   ]
  },
  {
   "cell_type": "code",
   "execution_count": 5,
   "id": "42ef00f6-bfc4-4411-afce-2adfcf31aef0",
   "metadata": {},
   "outputs": [
    {
     "name": "stdout",
     "output_type": "stream",
     "text": [
      "\n",
      "missing values after handling:\n",
      "\n",
      "Savanna fires                      0\n",
      "Forest fires                       0\n",
      "Crop Residues                      0\n",
      "Forestland                         0\n",
      "Net Forest conversion              0\n",
      "Food Household Consumption         0\n",
      "IPPU                               0\n",
      "Manure applied to Soils            0\n",
      "Manure Management                  0\n",
      "Fires in humid tropical forests    0\n",
      "On-farm energy use                 0\n",
      "dtype: int64\n"
     ]
    }
   ],
   "source": [
    "# calculates median values for numeric columns only\n",
    "median_values = df[columns_to_fill].median(numeric_only=True)\n",
    "\n",
    "# fills missing values with the corresponding medians\n",
    "df[columns_to_fill] = df[columns_to_fill].fillna(median_values)\n",
    "\n",
    "# prints missing value counts after filling\n",
    "print(\"\\nmissing values after handling:\\n\")\n",
    "print(df[columns_to_fill].isnull().sum())"
   ]
  },
  {
   "cell_type": "markdown",
   "id": "8478ba21-4e42-41f6-92ad-2cbfcab28f00",
   "metadata": {},
   "source": [
    "### Verifying Formatting of Continuous and Categorical Features"
   ]
  },
  {
   "cell_type": "code",
   "execution_count": 7,
   "id": "3b726391-f8f3-4c04-bdfe-8ce510033c85",
   "metadata": {},
   "outputs": [
    {
     "name": "stdout",
     "output_type": "stream",
     "text": [
      "\n",
      "data types after conversion:\n",
      "\n",
      "Area                               category\n",
      "Year                               category\n",
      "Savanna fires                       float64\n",
      "Forest fires                        float64\n",
      "Crop Residues                       float64\n",
      "Rice Cultivation                    float64\n",
      "Drained organic soils (CO2)         float64\n",
      "Pesticides Manufacturing            float64\n",
      "Food Transport                      float64\n",
      "Forestland                          float64\n",
      "Net Forest conversion               float64\n",
      "Food Household Consumption          float64\n",
      "Food Retail                         float64\n",
      "On-farm Electricity Use             float64\n",
      "Food Packaging                      float64\n",
      "Agrifood Systems Waste Disposal     float64\n",
      "Food Processing                     float64\n",
      "Fertilizers Manufacturing           float64\n",
      "IPPU                                float64\n",
      "Manure applied to Soils             float64\n",
      "Manure left on Pasture              float64\n",
      "Manure Management                   float64\n",
      "Fires in organic soils              float64\n",
      "Fires in humid tropical forests     float64\n",
      "On-farm energy use                  float64\n",
      "Rural population                    float64\n",
      "Urban population                    float64\n",
      "Total Population - Male             float64\n",
      "Total Population - Female           float64\n",
      "total_emission                      float64\n",
      "Average Temperature °C              float64\n",
      "dtype: object\n"
     ]
    }
   ],
   "source": [
    "# converts 'Area' to categorical type\n",
    "df['Area'] = df['Area'].astype('category')\n",
    "\n",
    "# converts 'Year' to categorical type\n",
    "df['Year'] = df['Year'].astype('category')\n",
    "\n",
    "# prints updated data types for all columns\n",
    "print(\"\\ndata types after conversion:\\n\")\n",
    "print(df.dtypes)"
   ]
  },
  {
   "cell_type": "code",
   "execution_count": 8,
   "id": "a439aa40-d5c1-42c8-b1a1-959e1ddb8b23",
   "metadata": {},
   "outputs": [
    {
     "name": "stdout",
     "output_type": "stream",
     "text": [
      "\n",
      "number of unique values per column:\n",
      "\n",
      "Year                                 31\n",
      "Fires in organic soils              126\n",
      "Area                                236\n",
      "Net Forest conversion               442\n",
      "Forestland                          605\n",
      "Pesticides Manufacturing           1310\n",
      "Fires in humid tropical forests    1736\n",
      "Drained organic soils (CO2)        2147\n",
      "Forest fires                       2962\n",
      "Fertilizers Manufacturing          2973\n",
      "Food Processing                    3542\n",
      "Rice Cultivation                   3635\n",
      "Food Packaging                     3704\n",
      "Savanna fires                      3747\n",
      "On-farm Electricity Use            5322\n",
      "Crop Residues                      5359\n",
      "On-farm energy use                 5558\n",
      "Manure left on Pasture             5922\n",
      "Manure applied to Soils            5927\n",
      "Manure Management                  5931\n",
      "IPPU                               6027\n",
      "Average Temperature °C             6139\n",
      "Food Household Consumption         6359\n",
      "Agrifood Systems Waste Disposal    6419\n",
      "Food Retail                        6459\n",
      "Food Transport                     6512\n",
      "Rural population                   6611\n",
      "Urban population                   6865\n",
      "Total Population - Male            6884\n",
      "Total Population - Female          6884\n",
      "total_emission                     6899\n",
      "dtype: int64\n"
     ]
    }
   ],
   "source": [
    "# checks number of unique values in each column to confirm which ones are categorical candidates\n",
    "print(\"\\nnumber of unique values per column:\\n\")\n",
    "print(df.nunique().sort_values())"
   ]
  },
  {
   "cell_type": "markdown",
   "id": "c9142d33-3ee2-4e60-bf82-714e5c174d4c",
   "metadata": {},
   "source": [
    "### Checking and Handling Duplicates and Outliers"
   ]
  },
  {
   "cell_type": "code",
   "execution_count": 10,
   "id": "444d24e7-bc53-4799-ac1e-fd7a8a9edc92",
   "metadata": {},
   "outputs": [
    {
     "name": "stdout",
     "output_type": "stream",
     "text": [
      "\n",
      "number of duplicate rows: 0\n"
     ]
    }
   ],
   "source": [
    "# checks for duplicate rows\n",
    "duplicate_count = df.duplicated().sum()\n",
    "print(f\"\\nnumber of duplicate rows: {duplicate_count}\")\n",
    "\n",
    "# drops duplicate rows if any\n",
    "df = df.drop_duplicates()\n"
   ]
  },
  {
   "cell_type": "code",
   "execution_count": 11,
   "id": "cb40a69d-7a36-469f-92c6-071cdcf954b5",
   "metadata": {},
   "outputs": [
    {
     "name": "stdout",
     "output_type": "stream",
     "text": [
      "\n",
      "number of outliers per numeric column (using IQR method):\n",
      "\n",
      "Fires in humid tropical forests: 1607\n",
      "Savanna fires: 1439\n",
      "Forest fires: 1412\n",
      "Forestland: 1364\n",
      "Drained organic soils (CO2): 1361\n",
      "Food Packaging: 1358\n",
      "Net Forest conversion: 1271\n",
      "total_emission: 1142\n",
      "Food Household Consumption: 1129\n",
      "IPPU: 1077\n",
      "Manure Management: 1051\n",
      "Crop Residues: 1048\n",
      "On-farm energy use: 1037\n",
      "Agrifood Systems Waste Disposal: 1028\n",
      "Manure applied to Soils: 1010\n",
      "Urban population: 1001\n",
      "Pesticides Manufacturing: 946\n",
      "Rice Cultivation: 923\n",
      "On-farm Electricity Use: 917\n",
      "Manure left on Pasture: 911\n",
      "Food Transport: 890\n",
      "Food Retail: 871\n",
      "Total Population - Female: 858\n",
      "Food Processing: 851\n",
      "Total Population - Male: 826\n",
      "Fertilizers Manufacturing: 778\n",
      "Rural population: 758\n",
      "Fires in organic soils: 309\n",
      "Average Temperature °C: 155\n"
     ]
    }
   ],
   "source": [
    "# selects only numeric columns\n",
    "numeric_cols = df.select_dtypes(include=['float64', 'int64']).columns\n",
    "\n",
    "# creates a dictionary to store outlier counts per column\n",
    "outlier_counts = {}\n",
    "\n",
    "# loops through numeric columns and detects outliers using IQR\n",
    "for col in numeric_cols:\n",
    "    q1 = df[col].quantile(0.25)\n",
    "    q3 = df[col].quantile(0.75)\n",
    "    iqr = q3 - q1\n",
    "    lower_bound = q1 - 1.5 * iqr\n",
    "    upper_bound = q3 + 1.5 * iqr\n",
    "    outliers = df[(df[col] < lower_bound) | (df[col] > upper_bound)]\n",
    "    outlier_counts[col] = len(outliers)\n",
    "\n",
    "# prints number of outliers per column\n",
    "print(\"\\nnumber of outliers per numeric column (using IQR method):\\n\")\n",
    "for col, count in sorted(outlier_counts.items(), key=lambda x: -x[1]):\n",
    "    print(f\"{col}: {count}\")"
   ]
  },
  {
   "cell_type": "markdown",
   "id": "79b5bf0a-cf69-4a3f-8e94-463543fb235b",
   "metadata": {},
   "source": [
    "### Create additional categorical features\n",
    "\n",
    "#### Temperature Category\n",
    "Based on the Average Temperature °C column, we divided observations into three categories using the 33rd and 66th percentiles:\n",
    "\n",
    "- Cold: Temperature below the 33rd percentile\n",
    "\n",
    "- Moderate: Temperature between the 33rd and 66th percentiles\n",
    "\n",
    "- Hot: Temperature above the 66th percentile\n",
    "\n",
    "#### Population Size\n",
    "We calculated total population as the sum of Total Population - Male and Total Population - Female, then categorized countries as:\n",
    "\n",
    "- Small: Population below the 33rd percentile\n",
    "\n",
    "- Medium: Population between the 33rd and 66th percentiles\n",
    "\n",
    "- Large: Population above the 66th percentile"
   ]
  },
  {
   "cell_type": "code",
   "execution_count": 13,
   "id": "001eef5d-6c0c-4e65-b80f-112c7133680e",
   "metadata": {},
   "outputs": [
    {
     "name": "stdout",
     "output_type": "stream",
     "text": [
      "\n",
      "temperature category distribution:\n",
      "\n",
      "Temperature Category\n",
      "Hot         2368\n",
      "Cold        2299\n",
      "Moderate    2298\n",
      "Name: count, dtype: int64\n"
     ]
    }
   ],
   "source": [
    "# creates total population column\n",
    "df['Total Population'] = df['Total Population - Male'] + df['Total Population - Female']\n",
    "\n",
    "# creates temperature category using quantiles\n",
    "temp_quantiles = df['Average Temperature °C'].quantile([0.33, 0.66])\n",
    "df['Temperature Category'] = pd.cut(\n",
    "    df['Average Temperature °C'],\n",
    "    bins=[-float('inf'), temp_quantiles[0.33], temp_quantiles[0.66], float('inf')],\n",
    "    labels=['Cold', 'Moderate', 'Hot']\n",
    ")\n",
    "\n",
    "# creates population size category using quantiles\n",
    "pop_quantiles = df['Total Population'].quantile([0.33, 0.66])\n",
    "df['Population Size'] = pd.cut(\n",
    "    df['Total Population'],\n",
    "    bins=[-float('inf'), pop_quantiles[0.33], pop_quantiles[0.66], float('inf')],\n",
    "    labels=['Small', 'Medium', 'Large']\n",
    ")\n",
    "\n",
    "# prints category distribution for inspection\n",
    "print(\"\\ntemperature category distribution:\\n\")\n",
    "print(df['Temperature Category'].value_counts())"
   ]
  },
  {
   "cell_type": "code",
   "execution_count": 14,
   "id": "58f6d79c-c5b2-4af7-85ad-89d1ba18b415",
   "metadata": {},
   "outputs": [
    {
     "name": "stdout",
     "output_type": "stream",
     "text": [
      "\n",
      "population size category distribution:\n",
      "\n",
      "Population Size\n",
      "Large     2368\n",
      "Small     2299\n",
      "Medium    2298\n",
      "Name: count, dtype: int64\n"
     ]
    }
   ],
   "source": [
    "print(\"\\npopulation size category distribution:\\n\")\n",
    "print(df['Population Size'].value_counts())"
   ]
  },
  {
   "cell_type": "code",
   "execution_count": 26,
   "id": "4d8a8072-6fe2-4904-bd53-85d272060011",
   "metadata": {},
   "outputs": [],
   "source": [
    "# saves the cleaned dataset to a CSV file\n",
    "#df.to_csv(\"agrofood_co2_emission_cleaned.csv\", index=False)"
   ]
  }
 ],
 "metadata": {
  "kernelspec": {
   "display_name": "Python [conda env:base] *",
   "language": "python",
   "name": "conda-base-py"
  },
  "language_info": {
   "codemirror_mode": {
    "name": "ipython",
    "version": 3
   },
   "file_extension": ".py",
   "mimetype": "text/x-python",
   "name": "python",
   "nbconvert_exporter": "python",
   "pygments_lexer": "ipython3",
   "version": "3.12.7"
  }
 },
 "nbformat": 4,
 "nbformat_minor": 5
}
